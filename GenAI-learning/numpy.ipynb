{
 "cells": [
  {
   "cell_type": "code",
   "execution_count": 1,
   "id": "c8fd8c07-4e64-4c9d-a83a-d14948ad6328",
   "metadata": {},
   "outputs": [
    {
     "name": "stdout",
     "output_type": "stream",
     "text": [
      "Collecting package metadata (current_repodata.json): done\n",
      "Solving environment: done\n",
      "\n",
      "\n",
      "==> WARNING: A newer version of conda exists. <==\n",
      "  current version: 4.9.2\n",
      "  latest version: 24.11.0\n",
      "\n",
      "Please update conda by running\n",
      "\n",
      "    $ conda update -n base -c defaults conda\n",
      "\n",
      "\n",
      "\n",
      "## Package Plan ##\n",
      "\n",
      "  environment location: /Users/eli970616/opt/miniconda3/envs/house-price\n",
      "\n",
      "  added / updated specs:\n",
      "    - numpy\n",
      "\n",
      "\n",
      "The following packages will be downloaded:\n",
      "\n",
      "    package                    |            build\n",
      "    ---------------------------|-----------------\n",
      "    libblas-3.9.0              |25_osx64_openblas          16 KB  conda-forge\n",
      "    libcblas-3.9.0             |25_osx64_openblas          15 KB  conda-forge\n",
      "    libgfortran-5.0.0          |13_2_0_h97931a8_3         108 KB  conda-forge\n",
      "    libgfortran5-13.2.0        |       h2873a65_3         1.5 MB  conda-forge\n",
      "    liblapack-3.9.0            |25_osx64_openblas          15 KB  conda-forge\n",
      "    libopenblas-0.3.28         |openmp_hbf64a52_1         5.9 MB  conda-forge\n",
      "    llvm-openmp-19.1.4         |       ha54dae1_0         298 KB  conda-forge\n",
      "    numpy-2.1.3                |  py310hdf3e1fd_0         6.7 MB  conda-forge\n",
      "    ------------------------------------------------------------\n",
      "                                           Total:        14.5 MB\n",
      "\n",
      "The following NEW packages will be INSTALLED:\n",
      "\n",
      "  libblas            conda-forge/osx-64::libblas-3.9.0-25_osx64_openblas\n",
      "  libcblas           conda-forge/osx-64::libcblas-3.9.0-25_osx64_openblas\n",
      "  libgfortran        conda-forge/osx-64::libgfortran-5.0.0-13_2_0_h97931a8_3\n",
      "  libgfortran5       conda-forge/osx-64::libgfortran5-13.2.0-h2873a65_3\n",
      "  liblapack          conda-forge/osx-64::liblapack-3.9.0-25_osx64_openblas\n",
      "  libopenblas        conda-forge/osx-64::libopenblas-0.3.28-openmp_hbf64a52_1\n",
      "  llvm-openmp        conda-forge/osx-64::llvm-openmp-19.1.4-ha54dae1_0\n",
      "  numpy              conda-forge/osx-64::numpy-2.1.3-py310hdf3e1fd_0\n",
      "\n",
      "\n",
      "\n",
      "Downloading and Extracting Packages\n",
      "libgfortran-5.0.0    | 108 KB    | ##################################### | 100% \n",
      "libcblas-3.9.0       | 15 KB     | ##################################### | 100% \n",
      "llvm-openmp-19.1.4   | 298 KB    | ##################################### | 100% \n",
      "numpy-2.1.3          | 6.7 MB    | ##################################### | 100% \n",
      "liblapack-3.9.0      | 15 KB     | ##################################### | 100% \n",
      "libblas-3.9.0        | 16 KB     | ##################################### | 100% \n",
      "libgfortran5-13.2.0  | 1.5 MB    | ##################################### | 100% \n",
      "libopenblas-0.3.28   | 5.9 MB    | ##################################### | 100% \n",
      "Preparing transaction: done\n",
      "Verifying transaction: done\n",
      "Executing transaction: done\n"
     ]
    }
   ],
   "source": [
    "!conda install numpy -y"
   ]
  },
  {
   "cell_type": "code",
   "execution_count": 2,
   "id": "53bb50bc-313d-4934-bc5b-78642bb5f2f4",
   "metadata": {},
   "outputs": [],
   "source": [
    "import numpy as np"
   ]
  },
  {
   "cell_type": "code",
   "execution_count": 3,
   "id": "b12019a1-0817-4aa0-97af-307ddb0df1e1",
   "metadata": {},
   "outputs": [
    {
     "name": "stdout",
     "output_type": "stream",
     "text": [
      "2.1.3\n"
     ]
    }
   ],
   "source": [
    "print(np.__version__)"
   ]
  },
  {
   "cell_type": "code",
   "execution_count": null,
   "id": "dd81d83a-8e73-4a83-b763-624b8443493f",
   "metadata": {},
   "outputs": [],
   "source": [
    "## 怎样创建数组"
   ]
  },
  {
   "cell_type": "code",
   "execution_count": 4,
   "id": "41d9fd96-144c-44a5-8aad-b9e978fdfe05",
   "metadata": {},
   "outputs": [
    {
     "name": "stdout",
     "output_type": "stream",
     "text": [
      "[1 2 3 4]\n"
     ]
    }
   ],
   "source": [
    "# 从列表或元组创建数组\n",
    "arr = np.array([1, 2, 3, 4])\n",
    "print(arr)  # 输出: [1 2 3 4]"
   ]
  },
  {
   "cell_type": "code",
   "execution_count": 5,
   "id": "cf691be3-0170-4cb7-ba14-ff027860ed90",
   "metadata": {},
   "outputs": [
    {
     "name": "stdout",
     "output_type": "stream",
     "text": [
      "[[0. 0. 0.]\n",
      " [0. 0. 0.]]\n"
     ]
    }
   ],
   "source": [
    "zeros = np.zeros((2, 3))  # 创建 2 行 3 列的零矩阵\n",
    "print(zeros)\n",
    "# 输出:\n",
    "# [[0. 0. 0.]\n",
    "#  [0. 0. 0.]]\n"
   ]
  },
  {
   "cell_type": "code",
   "execution_count": 6,
   "id": "43c12887-574a-4356-bc55-6a6f76e10625",
   "metadata": {},
   "outputs": [
    {
     "name": "stdout",
     "output_type": "stream",
     "text": [
      "[[1. 1.]\n",
      " [1. 1.]\n",
      " [1. 1.]]\n"
     ]
    }
   ],
   "source": [
    "ones = np.ones((3, 2))  # 创建 3 行 2 列的全一矩阵\n",
    "print(ones)\n",
    "# 输出:\n",
    "# [[1. 1.]\n",
    "#  [1. 1.]\n",
    "#  [1. 1.]]\n"
   ]
  },
  {
   "cell_type": "code",
   "execution_count": 7,
   "id": "e1f98307-2548-4d18-9270-fde9000e79e6",
   "metadata": {},
   "outputs": [
    {
     "name": "stdout",
     "output_type": "stream",
     "text": [
      "[0 2 4 6 8]\n"
     ]
    }
   ],
   "source": [
    "arange = np.arange(0, 10, 2)  # 从 0 开始，每次加 2，直到小于 10\n",
    "print(arange)  # 输出: [0 2 4 6 8]\n"
   ]
  },
  {
   "cell_type": "code",
   "execution_count": null,
   "id": "20247a5b-87fc-4f1f-8266-fb0dd9c3d4e1",
   "metadata": {},
   "outputs": [],
   "source": [
    "## 数据计算"
   ]
  },
  {
   "cell_type": "code",
   "execution_count": 8,
   "id": "18fa4fc5-ad6a-4b20-873f-19c186fee2cf",
   "metadata": {},
   "outputs": [
    {
     "name": "stdout",
     "output_type": "stream",
     "text": [
      "10\n"
     ]
    }
   ],
   "source": [
    "arr = np.array([1, 2, 3, 4])\n",
    "print(np.sum(arr))  # 输出: 10\n"
   ]
  },
  {
   "cell_type": "code",
   "execution_count": 9,
   "id": "864f52ee-8e92-4847-b8d1-ebe9c643e654",
   "metadata": {},
   "outputs": [
    {
     "name": "stdout",
     "output_type": "stream",
     "text": [
      "2.5\n"
     ]
    }
   ],
   "source": [
    "print(np.mean(arr))  # 输出: 2.5\n"
   ]
  },
  {
   "cell_type": "code",
   "execution_count": 10,
   "id": "aa2d48fc-7938-431c-a61c-fdd25f5c3ad5",
   "metadata": {},
   "outputs": [
    {
     "name": "stdout",
     "output_type": "stream",
     "text": [
      "4\n",
      "1\n"
     ]
    }
   ],
   "source": [
    "print(np.max(arr))  # 输出: 4\n",
    "print(np.min(arr))  # 输出: 1\n"
   ]
  },
  {
   "cell_type": "code",
   "execution_count": null,
   "id": "56aafedf-e22f-4471-ae63-3a1fc085bf76",
   "metadata": {},
   "outputs": [],
   "source": [
    "## 访问数组元素：索引和切片"
   ]
  },
  {
   "cell_type": "code",
   "execution_count": 11,
   "id": "520727c4-a4de-4290-83b1-76573e55b7f1",
   "metadata": {},
   "outputs": [
    {
     "name": "stdout",
     "output_type": "stream",
     "text": [
      "30\n"
     ]
    }
   ],
   "source": [
    "arr = np.array([10, 20, 30, 40])\n",
    "print(arr[2])  # 输出: 30"
   ]
  },
  {
   "cell_type": "code",
   "execution_count": 12,
   "id": "701bb1b1-735a-49c5-8c24-e1196f9412df",
   "metadata": {},
   "outputs": [
    {
     "name": "stdout",
     "output_type": "stream",
     "text": [
      "4\n"
     ]
    }
   ],
   "source": [
    "matrix = np.array([[1, 2], [3, 4], [5, 6]])\n",
    "print(matrix[1, 1])  # 输出: 4 （第 1 行第 1 列的元素）"
   ]
  },
  {
   "cell_type": "code",
   "execution_count": 13,
   "id": "2f9123db-b008-4643-aa60-b9fa85eddffe",
   "metadata": {},
   "outputs": [
    {
     "name": "stdout",
     "output_type": "stream",
     "text": [
      "[20 30 40]\n"
     ]
    }
   ],
   "source": [
    "arr = np.array([10, 20, 30, 40, 50])\n",
    "print(arr[1:4])  # 输出: [20 30 40]\n"
   ]
  },
  {
   "cell_type": "code",
   "execution_count": null,
   "id": "3ae71260-5990-46c2-b0cf-d87a6bda2c6d",
   "metadata": {},
   "outputs": [],
   "source": [
    "## 矩阵计算"
   ]
  },
  {
   "cell_type": "code",
   "execution_count": 14,
   "id": "4830d3d2-39e2-4f9a-9d07-37a8d2ce9582",
   "metadata": {},
   "outputs": [
    {
     "name": "stdout",
     "output_type": "stream",
     "text": [
      "[[19 22]\n",
      " [43 50]]\n"
     ]
    }
   ],
   "source": [
    "A = np.array([[1, 2], [3, 4]])\n",
    "B = np.array([[5, 6], [7, 8]])\n",
    "\n",
    "result = np.dot(A, B)  # 矩阵乘法\n",
    "print(result)\n",
    "# 输出:\n",
    "# [[19 22]\n",
    "#  [43 50]]\n"
   ]
  },
  {
   "cell_type": "code",
   "execution_count": 15,
   "id": "fa3c95bd-8d06-42b8-871d-b86a7917778d",
   "metadata": {},
   "outputs": [
    {
     "name": "stdout",
     "output_type": "stream",
     "text": [
      "[[1 3 5]\n",
      " [2 4 6]]\n"
     ]
    }
   ],
   "source": [
    "A = np.array([[1, 2], [3, 4], [5, 6]])\n",
    "transposed = np.transpose(A)\n",
    "print(transposed)\n",
    "# 输出:\n",
    "# [[1 3 5]\n",
    "#  [2 4 6]]\n"
   ]
  },
  {
   "cell_type": "code",
   "execution_count": null,
   "id": "e90cbe17-cf12-488e-93dd-b8299e1b4572",
   "metadata": {},
   "outputs": [],
   "source": [
    "## 数据形状操作"
   ]
  },
  {
   "cell_type": "code",
   "execution_count": 16,
   "id": "d12ed787-e502-493d-af1e-6d2af399cd0a",
   "metadata": {},
   "outputs": [
    {
     "name": "stdout",
     "output_type": "stream",
     "text": [
      "[[1 2 3]\n",
      " [4 5 6]]\n"
     ]
    }
   ],
   "source": [
    "arr = np.array([1, 2, 3, 4, 5, 6])\n",
    "reshaped = arr.reshape(2, 3)  # 转为 2 行 3 列\n",
    "print(reshaped)\n",
    "# 输出:\n",
    "# [[1 2 3]\n",
    "#  [4 5 6]]\n"
   ]
  },
  {
   "cell_type": "code",
   "execution_count": 17,
   "id": "50e55482-c424-4c39-a5c4-73aab2849f99",
   "metadata": {},
   "outputs": [
    {
     "name": "stdout",
     "output_type": "stream",
     "text": [
      "[1 2 3 4 5 6]\n"
     ]
    }
   ],
   "source": [
    "matrix = np.array([[1, 2], [3, 4], [5, 6]])\n",
    "flattened = matrix.ravel()\n",
    "print(flattened)  # 输出: [1 2 3 4 5 6]\n"
   ]
  },
  {
   "cell_type": "code",
   "execution_count": null,
   "id": "20a8cf1e-3390-4765-ac74-39c0764904d1",
   "metadata": {},
   "outputs": [],
   "source": []
  }
 ],
 "metadata": {
  "kernelspec": {
   "display_name": "Python 3 (ipykernel)",
   "language": "python",
   "name": "python3"
  },
  "language_info": {
   "codemirror_mode": {
    "name": "ipython",
    "version": 3
   },
   "file_extension": ".py",
   "mimetype": "text/x-python",
   "name": "python",
   "nbconvert_exporter": "python",
   "pygments_lexer": "ipython3",
   "version": "3.10.15"
  }
 },
 "nbformat": 4,
 "nbformat_minor": 5
}
