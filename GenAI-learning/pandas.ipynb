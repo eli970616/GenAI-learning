{
 "cells": [
  {
   "cell_type": "code",
   "execution_count": 5,
   "id": "7b472c4f-3a26-49b3-a945-2fbd201a6b63",
   "metadata": {},
   "outputs": [
    {
     "name": "stdout",
     "output_type": "stream",
     "text": [
      "Collecting package metadata (current_repodata.json): done\n",
      "Solving environment: done\n",
      "\n",
      "\n",
      "==> WARNING: A newer version of conda exists. <==\n",
      "  current version: 4.9.2\n",
      "  latest version: 24.11.0\n",
      "\n",
      "Please update conda by running\n",
      "\n",
      "    $ conda update -n base -c defaults conda\n",
      "\n",
      "\n",
      "\n",
      "## Package Plan ##\n",
      "\n",
      "  environment location: /Users/eli970616/opt/miniconda3/envs/house-price\n",
      "\n",
      "  added / updated specs:\n",
      "    - pandas\n",
      "\n",
      "\n",
      "The following packages will be downloaded:\n",
      "\n",
      "    package                    |            build\n",
      "    ---------------------------|-----------------\n",
      "    pandas-2.2.2               |  py310hbf2a7f0_1        11.6 MB  conda-forge\n",
      "    python-tzdata-2024.2       |     pyhd8ed1ab_1         139 KB  conda-forge\n",
      "    ------------------------------------------------------------\n",
      "                                           Total:        11.8 MB\n",
      "\n",
      "The following NEW packages will be INSTALLED:\n",
      "\n",
      "  pandas             conda-forge/osx-64::pandas-2.2.2-py310hbf2a7f0_1\n",
      "  python-tzdata      conda-forge/noarch::python-tzdata-2024.2-pyhd8ed1ab_1\n",
      "\n",
      "\n",
      "\n",
      "Downloading and Extracting Packages\n",
      "pandas-2.2.2         | 11.6 MB   | ##################################### | 100% \n",
      "python-tzdata-2024.2 | 139 KB    | ##################################### | 100% \n",
      "Preparing transaction: done\n",
      "Verifying transaction: done\n",
      "Executing transaction: done\n"
     ]
    }
   ],
   "source": [
    "!conda install pandas -y\n"
   ]
  },
  {
   "cell_type": "code",
   "execution_count": 6,
   "id": "e982c92b-f16d-48e0-af7f-4e0027e6904b",
   "metadata": {},
   "outputs": [
    {
     "name": "stdout",
     "output_type": "stream",
     "text": [
      "2.2.2\n"
     ]
    }
   ],
   "source": [
    "import pandas as pd\n",
    "print(pd.__version__)\n"
   ]
  },
  {
   "cell_type": "code",
   "execution_count": 7,
   "id": "5105aa7f-bbe1-40df-9b0d-0e8e032a15b9",
   "metadata": {},
   "outputs": [
    {
     "name": "stdout",
     "output_type": "stream",
     "text": [
      "Data.csv 文件已创建!\n",
      "\n",
      "=== 读取 CSV 文件 ===\n",
      "      Name  Age         City\n",
      "0    Alice   25     New York\n",
      "1      Bob   30  Los Angeles\n",
      "2  Charlie   35      Chicago\n",
      "3    David   40      Houston\n",
      "\n",
      "=== 筛选年龄大于 30 的行 ===\n",
      "      Name  Age     City\n",
      "2  Charlie   35  Chicago\n",
      "3    David   40  Houston\n",
      "\n",
      "=== 按行位置筛选第 1 行到第 2 行（不包括第 3 行） ===\n",
      "    Name  Age         City\n",
      "0  Alice   25     New York\n",
      "1    Bob   30  Los Angeles\n",
      "\n",
      "=== 删除 'City' 列 ===\n",
      "      Name  Age\n",
      "0    Alice   25\n",
      "1      Bob   30\n",
      "2  Charlie   35\n",
      "3    David   40\n",
      "\n",
      "=== 重命名 'Name' 列为 'Full Name' ===\n",
      "  Full Name  Age         City\n",
      "0     Alice   25     New York\n",
      "1       Bob   30  Los Angeles\n",
      "2   Charlie   35      Chicago\n",
      "3     David   40      Houston\n",
      "\n",
      "=== 原始数据（包含缺失值） ===\n",
      "    Name   Age      City\n",
      "0  Alice  25.0  New York\n",
      "1    Bob   NaN      None\n",
      "2   None  35.0   Chicago\n",
      "\n",
      "=== 填充缺失值 ===\n",
      "      Name   Age      City\n",
      "0    Alice  25.0  New York\n",
      "1      Bob   0.0   Unknown\n",
      "2  Unknown  35.0   Chicago\n"
     ]
    }
   ],
   "source": [
    "import pandas as pd\n",
    "\n",
    "# 创建一个模拟的 CSV 文件内容\n",
    "data = {\n",
    "    \"Name\": [\"Alice\", \"Bob\", \"Charlie\", \"David\"],\n",
    "    \"Age\": [25, 30, 35, 40],\n",
    "    \"City\": [\"New York\", \"Los Angeles\", \"Chicago\", \"Houston\"]\n",
    "}\n",
    "\n",
    "# 将数据保存为 data.csv\n",
    "df = pd.DataFrame(data)\n",
    "df.to_csv(\"data.csv\", index=False)\n",
    "print(\"Data.csv 文件已创建!\")\n",
    "\n",
    "# 1. 读取 CSV 文件\n",
    "print(\"\\n=== 读取 CSV 文件 ===\")\n",
    "df = pd.read_csv(\"data.csv\")\n",
    "print(df)\n",
    "\n",
    "# 2. 筛选与过滤\n",
    "print(\"\\n=== 筛选年龄大于 30 的行 ===\")\n",
    "filtered_df = df.loc[df['Age'] > 30]\n",
    "print(filtered_df)\n",
    "\n",
    "print(\"\\n=== 按行位置筛选第 1 行到第 2 行（不包括第 3 行） ===\")\n",
    "subset_df = df.iloc[0:2]\n",
    "print(subset_df)\n",
    "\n",
    "# 3. 数据处理\n",
    "print(\"\\n=== 删除 'City' 列 ===\")\n",
    "df_without_city = df.drop(columns=[\"City\"])\n",
    "print(df_without_city)\n",
    "\n",
    "print(\"\\n=== 重命名 'Name' 列为 'Full Name' ===\")\n",
    "df_renamed = df.rename(columns={\"Name\": \"Full Name\"})\n",
    "print(df_renamed)\n",
    "\n",
    "# 模拟缺失值数据\n",
    "data_with_nan = {\n",
    "    \"Name\": [\"Alice\", \"Bob\", None],\n",
    "    \"Age\": [25, None, 35],\n",
    "    \"City\": [\"New York\", None, \"Chicago\"]\n",
    "}\n",
    "df_with_nan = pd.DataFrame(data_with_nan)\n",
    "\n",
    "print(\"\\n=== 原始数据（包含缺失值） ===\")\n",
    "print(df_with_nan)\n",
    "\n",
    "print(\"\\n=== 填充缺失值 ===\")\n",
    "df_filled = df_with_nan.fillna({\"Name\": \"Unknown\", \"Age\": 0, \"City\": \"Unknown\"})\n",
    "print(df_filled)\n"
   ]
  },
  {
   "cell_type": "code",
   "execution_count": null,
   "id": "c7f0aaed-e067-4050-bb02-c7c3121942b9",
   "metadata": {},
   "outputs": [],
   "source": [
    "# loc vs iloc\n",
    "# loc 和 iloc 是 Pandas 中用于选择数据的两种方法，它们的主要区别在于 选择方式 和 使用的索引类型："
   ]
  },
  {
   "cell_type": "code",
   "execution_count": 8,
   "id": "262e4f1b-3d76-4ab0-be81-79ab83ba1d35",
   "metadata": {},
   "outputs": [
    {
     "name": "stdout",
     "output_type": "stream",
     "text": [
      "Name       Alice\n",
      "Age           25\n",
      "City    New York\n",
      "Name: a, dtype: object\n",
      "    Name  Age\n",
      "a  Alice   25\n",
      "b    Bob   30\n",
      "      Name  Age     City\n",
      "c  Charlie   35  Chicago\n"
     ]
    }
   ],
   "source": [
    "import pandas as pd\n",
    "\n",
    "data = {\n",
    "    \"Name\": [\"Alice\", \"Bob\", \"Charlie\"],\n",
    "    \"Age\": [25, 30, 35],\n",
    "    \"City\": [\"New York\", \"Los Angeles\", \"Chicago\"]\n",
    "}\n",
    "df = pd.DataFrame(data, index=[\"a\", \"b\", \"c\"])\n",
    "\n",
    "# 使用 loc 按标签选择单行\n",
    "print(df.loc[\"a\"])\n",
    "# 输出:\n",
    "# Name       Alice\n",
    "# Age           25\n",
    "# City    New York\n",
    "# Name: a, dtype: object\n",
    "\n",
    "# 按标签选择多行和列\n",
    "print(df.loc[\"a\":\"b\", [\"Name\", \"Age\"]])\n",
    "# 输出:\n",
    "#    Name  Age\n",
    "# a  Alice   25\n",
    "# b    Bob   30\n",
    "\n",
    "# 使用布尔索引选择行\n",
    "print(df.loc[df[\"Age\"] > 30])\n",
    "# 输出:\n",
    "#       Name  Age     City\n",
    "# c  Charlie   35  Chicago\n"
   ]
  },
  {
   "cell_type": "code",
   "execution_count": 9,
   "id": "6b404717-cf29-42bb-a853-3340145feebb",
   "metadata": {},
   "outputs": [
    {
     "name": "stdout",
     "output_type": "stream",
     "text": [
      "Name       Alice\n",
      "Age           25\n",
      "City    New York\n",
      "Name: a, dtype: object\n",
      "    Name  Age\n",
      "a  Alice   25\n",
      "b    Bob   30\n",
      "35\n"
     ]
    }
   ],
   "source": [
    "# 按行号选择单行\n",
    "print(df.iloc[0])\n",
    "# 输出:\n",
    "# Name       Alice\n",
    "# Age           25\n",
    "# City    New York\n",
    "# Name: a, dtype: object\n",
    "\n",
    "# 按行号选择多行和列\n",
    "print(df.iloc[0:2, 0:2])\n",
    "# 输出:\n",
    "#    Name  Age\n",
    "# a  Alice   25\n",
    "# b    Bob   30\n",
    "\n",
    "# 按行和列的位置选择单个值\n",
    "print(df.iloc[2, 1])\n",
    "# 输出: 35\n"
   ]
  },
  {
   "cell_type": "code",
   "execution_count": null,
   "id": "3b92589d-4082-4fbf-a0e1-ea19b0fdfa6c",
   "metadata": {},
   "outputs": [],
   "source": []
  }
 ],
 "metadata": {
  "kernelspec": {
   "display_name": "Python 3 (ipykernel)",
   "language": "python",
   "name": "python3"
  },
  "language_info": {
   "codemirror_mode": {
    "name": "ipython",
    "version": 3
   },
   "file_extension": ".py",
   "mimetype": "text/x-python",
   "name": "python",
   "nbconvert_exporter": "python",
   "pygments_lexer": "ipython3",
   "version": "3.10.15"
  }
 },
 "nbformat": 4,
 "nbformat_minor": 5
}
